{
 "cells": [
  {
   "cell_type": "code",
   "execution_count": null,
   "id": "e913e512-3eed-45df-b1bb-3198fe76e1af",
   "metadata": {},
   "outputs": [],
   "source": [
    "# traffic_volume_estimation.py\n",
    "\n",
    "import pandas as pd\n",
    "import numpy as np\n",
    "import matplotlib.pyplot as plt\n",
    "import seaborn as sns\n",
    "from sklearn.model_selection import train_test_split\n",
    "from sklearn.ensemble import RandomForestRegressor\n",
    "from sklearn.metrics import mean_absolute_error, r2_score\n",
    "\n",
    "# Load Dataset\n",
    "df = pd.read_csv('traffic_data.csv')  # Replace with actual dataset path\n",
    "\n",
    "# Basic Preprocessing\n",
    "df = df.dropna()\n",
    "df['date_time'] = pd.to_datetime(df['date_time'])\n",
    "\n",
    "# Feature Engineering\n",
    "df['hour'] = df['date_time'].dt.hour\n",
    "df['day_of_week'] = df['date_time'].dt.dayofweek\n",
    "df['month'] = df['date_time'].dt.month\n",
    "\n",
    "# Optional: Drop columns that won't be used\n",
    "df = df.drop(columns=['date_time'])\n",
    "\n",
    "# Define Features and Target\n",
    "X = df.drop(columns=['traffic_volume'])\n",
    "y = df['traffic_volume']\n",
    "\n",
    "# Split Data\n",
    "X_train, X_test, y_train, y_test = train_test_split(X, y, test_size=0.2, random_state=42)\n",
    "\n",
    "# Train Model\n",
    "model = RandomForestRegressor(n_estimators=100, random_state=42)\n",
    "model.fit(X_train, y_train)\n",
    "\n",
    "# Predict\n",
    "y_pred = model.predict(X_test)\n",
    "\n",
    "# Evaluate\n",
    "mae = mean_absolute_error(y_test, y_pred)\n",
    "r2 = r2_score(y_test, y_pred)\n",
    "\n",
    "print(f\"Mean Absolute Error: {mae}\")\n",
    "print(f\"R² Score: {r2}\")\n",
    "\n",
    "# Plot\n",
    "plt.figure(figsize=(10, 6))\n",
    "plt.scatter(y_test, y_pred, alpha=0.3)\n",
    "plt.xlabel('Actual Traffic Volume')\n",
    "plt.ylabel('Predicted Traffic Volume')\n",
    "plt.title('Actual vs Predicted Traffic Volume')\n",
    "plt.grid(True)\n",
    "plt.show()\n"
   ]
  }
 ],
 "metadata": {
  "kernelspec": {
   "display_name": "Python [conda env:base] *",
   "language": "python",
   "name": "conda-base-py"
  },
  "language_info": {
   "codemirror_mode": {
    "name": "ipython",
    "version": 3
   },
   "file_extension": ".py",
   "mimetype": "text/x-python",
   "name": "python",
   "nbconvert_exporter": "python",
   "pygments_lexer": "ipython3",
   "version": "3.12.7"
  }
 },
 "nbformat": 4,
 "nbformat_minor": 5
}
